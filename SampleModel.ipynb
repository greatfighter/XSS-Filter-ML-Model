{
 "cells": [
  {
   "cell_type": "code",
   "execution_count": 2,
   "metadata": {},
   "outputs": [],
   "source": [
    "import re\n",
    "import numpy as np\n",
    "from sklearn.model_selection import train_test_split\n",
    "from tensorflow.keras.preprocessing.text import Tokenizer\n",
    "from tensorflow.keras.preprocessing.sequence import pad_sequences\n",
    "\n",
    "# Example dataset\n",
    "data = [\n",
    "    (\"<script>alert('XSS');</script>\", 1),  # Malicious\n",
    "    (\"<div>Hello, World!</div>\", 0),  # Benign\n",
    "    (\"<img src=x onerror=alert('XSS')>\", 1),  # Malicious\n",
    "    (\"<p>This is a paragraph.</p>\", 0)  # Benign\n",
    "]\n",
    "\n",
    "# Separate the texts and labels\n",
    "texts, labels = zip(*data)\n",
    "\n",
    "# Tokenize the texts\n",
    "tokenizer = Tokenizer(char_level=True)\n",
    "tokenizer.fit_on_texts(texts)\n",
    "sequences = tokenizer.texts_to_sequences(texts)\n",
    "max_length = max(len(seq) for seq in sequences)\n",
    "sequences = pad_sequences(sequences, maxlen=max_length, padding='post')\n",
    "vocab_size = len(tokenizer.word_index) + 1\n",
    "\n",
    "# Convert labels to numpy array\n",
    "labels = np.array(labels)\n",
    "\n",
    "# Train-test split\n",
    "X_train, X_test, y_train, y_test = train_test_split(sequences, labels, test_size=0.2, random_state=42)\n"
   ]
  },
  {
   "cell_type": "code",
   "execution_count": 3,
   "metadata": {},
   "outputs": [
    {
     "name": "stdout",
     "output_type": "stream",
     "text": [
      "Epoch 1/10\n"
     ]
    },
    {
     "name": "stderr",
     "output_type": "stream",
     "text": [
      "/Users/spencer/Library/Python/3.9/lib/python/site-packages/keras/src/layers/core/embedding.py:90: UserWarning: Argument `input_length` is deprecated. Just remove it.\n",
      "  warnings.warn(\n"
     ]
    },
    {
     "name": "stdout",
     "output_type": "stream",
     "text": [
      "\u001b[1m1/1\u001b[0m \u001b[32m━━━━━━━━━━━━━━━━━━━━\u001b[0m\u001b[37m\u001b[0m \u001b[1m1s\u001b[0m 1s/step - accuracy: 0.5000 - loss: 0.6920 - val_accuracy: 1.0000 - val_loss: 0.6812\n",
      "Epoch 2/10\n",
      "\u001b[1m1/1\u001b[0m \u001b[32m━━━━━━━━━━━━━━━━━━━━\u001b[0m\u001b[37m\u001b[0m \u001b[1m0s\u001b[0m 32ms/step - accuracy: 1.0000 - loss: 0.6815 - val_accuracy: 1.0000 - val_loss: 0.6717\n",
      "Epoch 3/10\n",
      "\u001b[1m1/1\u001b[0m \u001b[32m━━━━━━━━━━━━━━━━━━━━\u001b[0m\u001b[37m\u001b[0m \u001b[1m0s\u001b[0m 31ms/step - accuracy: 1.0000 - loss: 0.6711 - val_accuracy: 1.0000 - val_loss: 0.6584\n",
      "Epoch 4/10\n",
      "\u001b[1m1/1\u001b[0m \u001b[32m━━━━━━━━━━━━━━━━━━━━\u001b[0m\u001b[37m\u001b[0m \u001b[1m0s\u001b[0m 33ms/step - accuracy: 1.0000 - loss: 0.6470 - val_accuracy: 1.0000 - val_loss: 0.6367\n",
      "Epoch 5/10\n",
      "\u001b[1m1/1\u001b[0m \u001b[32m━━━━━━━━━━━━━━━━━━━━\u001b[0m\u001b[37m\u001b[0m \u001b[1m0s\u001b[0m 32ms/step - accuracy: 1.0000 - loss: 0.6171 - val_accuracy: 1.0000 - val_loss: 0.6035\n",
      "Epoch 6/10\n",
      "\u001b[1m1/1\u001b[0m \u001b[32m━━━━━━━━━━━━━━━━━━━━\u001b[0m\u001b[37m\u001b[0m \u001b[1m0s\u001b[0m 32ms/step - accuracy: 1.0000 - loss: 0.5783 - val_accuracy: 1.0000 - val_loss: 0.5516\n",
      "Epoch 7/10\n",
      "\u001b[1m1/1\u001b[0m \u001b[32m━━━━━━━━━━━━━━━━━━━━\u001b[0m\u001b[37m\u001b[0m \u001b[1m0s\u001b[0m 33ms/step - accuracy: 1.0000 - loss: 0.4918 - val_accuracy: 1.0000 - val_loss: 0.4792\n",
      "Epoch 8/10\n",
      "\u001b[1m1/1\u001b[0m \u001b[32m━━━━━━━━━━━━━━━━━━━━\u001b[0m\u001b[37m\u001b[0m \u001b[1m0s\u001b[0m 33ms/step - accuracy: 1.0000 - loss: 0.3932 - val_accuracy: 1.0000 - val_loss: 0.3826\n",
      "Epoch 9/10\n",
      "\u001b[1m1/1\u001b[0m \u001b[32m━━━━━━━━━━━━━━━━━━━━\u001b[0m\u001b[37m\u001b[0m \u001b[1m0s\u001b[0m 32ms/step - accuracy: 1.0000 - loss: 0.2402 - val_accuracy: 1.0000 - val_loss: 0.2727\n",
      "Epoch 10/10\n",
      "\u001b[1m1/1\u001b[0m \u001b[32m━━━━━━━━━━━━━━━━━━━━\u001b[0m\u001b[37m\u001b[0m \u001b[1m0s\u001b[0m 32ms/step - accuracy: 1.0000 - loss: 0.1066 - val_accuracy: 1.0000 - val_loss: 0.1865\n"
     ]
    },
    {
     "data": {
      "text/plain": [
       "<keras.src.callbacks.history.History at 0x321296730>"
      ]
     },
     "execution_count": 3,
     "metadata": {},
     "output_type": "execute_result"
    }
   ],
   "source": [
    "from tensorflow.keras.models import Sequential\n",
    "from tensorflow.keras.layers import Embedding, LSTM, Dense, Dropout\n",
    "\n",
    "# Define the model\n",
    "model = Sequential([\n",
    "    Embedding(vocab_size, 128, input_length=max_length),\n",
    "    LSTM(128, return_sequences=True),\n",
    "    Dropout(0.5),\n",
    "    LSTM(128),\n",
    "    Dense(1, activation='sigmoid')\n",
    "])\n",
    "\n",
    "# Compile the model\n",
    "model.compile(optimizer='adam', loss='binary_crossentropy', metrics=['accuracy'])\n",
    "\n",
    "# Train the model\n",
    "model.fit(X_train, y_train, epochs=10, batch_size=32, validation_split=0.1)\n"
   ]
  },
  {
   "cell_type": "code",
   "execution_count": 4,
   "metadata": {},
   "outputs": [
    {
     "name": "stdout",
     "output_type": "stream",
     "text": [
      "\u001b[1m1/1\u001b[0m \u001b[32m━━━━━━━━━━━━━━━━━━━━\u001b[0m\u001b[37m\u001b[0m \u001b[1m0s\u001b[0m 95ms/step\n",
      "\u001b[1m1/1\u001b[0m \u001b[32m━━━━━━━━━━━━━━━━━━━━\u001b[0m\u001b[37m\u001b[0m \u001b[1m0s\u001b[0m 11ms/step\n",
      "[\"<script>alert\\\\('xss'\\\\);</script>\", \"<img\\\\ src=x\\\\ onerror=alert\\\\('xss'\\\\)>\"]\n"
     ]
    }
   ],
   "source": [
    "def generate_regex_patterns(model, tokenizer, sample_texts, threshold=0.5):\n",
    "    patterns = []\n",
    "    for text in sample_texts:\n",
    "        # Preprocess text\n",
    "        sequence = tokenizer.texts_to_sequences([text])\n",
    "        sequence = pad_sequences(sequence, maxlen=max_length, padding='post')\n",
    "\n",
    "        # Get model prediction\n",
    "        prediction = model.predict(sequence)[0][0]\n",
    "\n",
    "        # If the prediction is above the threshold, consider it as a pattern\n",
    "        if prediction > threshold:\n",
    "            # Convert the sequence back to text\n",
    "            pattern = ''.join(tokenizer.index_word[i] for i in sequence[0] if i > 0)\n",
    "            patterns.append(pattern)\n",
    "\n",
    "    return patterns\n",
    "\n",
    "# Generate patterns\n",
    "sample_texts = [\n",
    "    \"<script>alert('XSS');</script>\",\n",
    "    \"<img src=x onerror=alert('XSS')>\"\n",
    "]\n",
    "patterns = generate_regex_patterns(model, tokenizer, sample_texts)\n",
    "\n",
    "# Convert patterns to regex\n",
    "regex_patterns = [re.escape(pattern) for pattern in patterns]\n",
    "print(regex_patterns)\n"
   ]
  },
  {
   "cell_type": "code",
   "execution_count": 6,
   "metadata": {},
   "outputs": [
    {
     "name": "stdout",
     "output_type": "stream",
     "text": [
      " * Serving Flask app '__main__'\n",
      " * Debug mode: off\n"
     ]
    },
    {
     "name": "stderr",
     "output_type": "stream",
     "text": [
      "\u001b[31m\u001b[1mWARNING: This is a development server. Do not use it in a production deployment. Use a production WSGI server instead.\u001b[0m\n",
      " * Running on all addresses (0.0.0.0)\n",
      " * Running on http://127.0.0.1:285\n",
      " * Running on http://10.32.36.248:285\n",
      "\u001b[33mPress CTRL+C to quit\u001b[0m\n"
     ]
    }
   ],
   "source": [
    "from flask import Flask, request, jsonify\n",
    "from keras.preprocessing.sequence import pad_sequences\n",
    "import re\n",
    "\n",
    "app = Flask(__name__)\n",
    "\n",
    "# Load your model and tokenizer here\n",
    "# model = ...\n",
    "# tokenizer = ...\n",
    "# max_length = ...\n",
    "\n",
    "@app.route('/generate_regex_patterns', methods=['POST'])\n",
    "def generate_regex_patterns():\n",
    "    data = request.json\n",
    "    model = data['model']\n",
    "    tokenizer = data['tokenizer']\n",
    "    sample_texts = data['sample_texts']\n",
    "    threshold = data.get('threshold', 0.5)\n",
    "    \n",
    "    patterns = []\n",
    "    for text in sample_texts:\n",
    "        # Preprocess text\n",
    "        sequence = tokenizer.texts_to_sequences([text])\n",
    "        sequence = pad_sequences(sequence, maxlen=max_length, padding='post')\n",
    "        \n",
    "        # Get model prediction\n",
    "        prediction = model.predict(sequence)[0][0]\n",
    "        \n",
    "        # If the prediction is above the threshold, consider it as a pattern\n",
    "        if prediction > threshold:\n",
    "            # Convert the sequence back to text\n",
    "            pattern = ''.join(tokenizer.index_word[i] for i in sequence[0] if i > 0)\n",
    "            patterns.append(pattern)\n",
    "    \n",
    "    # Convert patterns to regex\n",
    "    regex_patterns = [re.escape(pattern) for pattern in patterns]\n",
    "    \n",
    "    return jsonify({'regex_patterns': regex_patterns})\n",
    "\n",
    "if __name__ == '__main__':\n",
    "    app.run(host='0.0.0.0', port=285)\n"
   ]
  }
 ],
 "metadata": {
  "kernelspec": {
   "display_name": "Python 3",
   "language": "python",
   "name": "python3"
  },
  "language_info": {
   "codemirror_mode": {
    "name": "ipython",
    "version": 3
   },
   "file_extension": ".py",
   "mimetype": "text/x-python",
   "name": "python",
   "nbconvert_exporter": "python",
   "pygments_lexer": "ipython3",
   "version": "3.9.6"
  }
 },
 "nbformat": 4,
 "nbformat_minor": 2
}
